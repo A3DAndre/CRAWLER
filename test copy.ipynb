{
 "cells": [
  {
   "cell_type": "code",
   "execution_count": null,
   "id": "31f49abb",
   "metadata": {},
   "outputs": [],
   "source": [
    "import boto3\n",
    "from boto3.session import Session\n",
    "import asyncio\n",
    "import boto3\n",
    "import json\n",
    "import sys\n",
    "\n",
    "import os\n",
    "from IPython.display import Markdown, display"
   ]
  },
  {
   "cell_type": "code",
   "execution_count": null,
   "id": "42be1f4c",
   "metadata": {},
   "outputs": [],
   "source": [
    "\n",
    "boto_session = Session()\n",
    "region = boto_session.region_name\n",
    "\n",
    "ssm_client = boto3.client('ssm', region_name=region)\n",
    "agent_arn_response = ssm_client.get_parameter(Name='/agent_a3_wiki_agentcore/runtime/agent_arn')\n",
    "agent_arn = agent_arn_response['Parameter']['Value']\n",
    "print(f\"Retrieved Agent ARN: {agent_arn}\")\n",
    "\n",
    "agentcore_client = boto3.client(\n",
    "    'bedrock-agentcore',\n",
    "    region_name=region\n",
    ")\n"
   ]
  },
  {
   "cell_type": "code",
   "execution_count": null,
   "id": "14776c35",
   "metadata": {},
   "outputs": [],
   "source": [
    "\n",
    "\n",
    "boto3_response = agentcore_client.invoke_agent_runtime(\n",
    "    agentRuntimeArn=agent_arn,\n",
    "    qualifier=\"DEFAULT\",\n",
    "    payload=json.dumps({\"prompt\": \"Me conte sobre os tipos de templates?\"}),\n",
    ")\n",
    "\n",
    "if \"text/event-stream\" in boto3_response.get(\"contentType\", \"\"):\n",
    "    content = []\n",
    "    for line in boto3_response[\"response\"].iter_lines(chunk_size=1):\n",
    "        if line:\n",
    "            line = line.decode(\"utf-8\", errors=\"replace\")\n",
    "            print(line)\n",
    "            if line.startswith(\"data: \"):\n",
    "                line = line[6:]\n",
    "                content.append(line)\n",
    "    # join and display the streamed data lines as Markdown\n",
    "    display(Markdown(\"\\n\".join(content)))\n",
    "else:\n",
    "    # Non-stream responses can be bytes, strings, or lists. Handle robustly.\n",
    "    try:\n",
    "        events = []\n",
    "        for event in boto3_response.get(\"response\", []):\n",
    "            events.append(event)\n",
    "    except Exception as e:\n",
    "        events = [f\"Error reading EventStream: {e}\"]\n",
    "\n",
    "    # Take the first event for display; decode if bytes\n",
    "    first = events[0] if events else \"\"\n",
    "    if isinstance(first, bytes):\n",
    "        text = first.decode(\"utf-8\", errors=\"replace\")\n",
    "    else:\n",
    "        # Convert other types to string safely\n",
    "        try:\n",
    "            text = str(first)\n",
    "        except Exception as e:\n",
    "            text = f\"<unserializable event: {e}>\"\n",
    "\n",
    "    # Try to parse JSON; if parsing fails, show raw text inside a code block\n",
    "    try:\n",
    "        parsed = json.loads(text)\n",
    "        pretty = json.dumps(parsed, ensure_ascii=False, indent=2)\n",
    "        display(Markdown(f\"```json\\n{pretty}\\n```\"))\n",
    "    except Exception:\n",
    "        # Not valid JSON — show raw text for debugging\n",
    "        display(Markdown(\"```text\\n\" + text + \"\\n```\"))\n",
    "    \n"
   ]
  }
 ],
 "metadata": {
  "kernelspec": {
   "display_name": ".venv",
   "language": "python",
   "name": "python3"
  },
  "language_info": {
   "codemirror_mode": {
    "name": "ipython",
    "version": 3
   },
   "file_extension": ".py",
   "mimetype": "text/x-python",
   "name": "python",
   "nbconvert_exporter": "python",
   "pygments_lexer": "ipython3",
   "version": "3.12.3"
  }
 },
 "nbformat": 4,
 "nbformat_minor": 5
}
